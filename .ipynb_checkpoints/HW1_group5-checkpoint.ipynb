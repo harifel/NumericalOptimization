{
 "cells": [
  {
   "cell_type": "markdown",
   "id": "63d442bf",
   "metadata": {},
   "source": [
    "<div style='background-image: url(\"https://i.ibb.co/2t6jDtW/igte-tu-banner.png\") ; padding: 0px ; background-size: 40% 130% ; background-repeat: no-repeat; border-radius: 5px ; height: 250px'>\n",
    "<div style=\"position: absolute; top: 100px; left: 260px; border-radius: 10px; background: rgba(212, 212, 212, 0.6) ; width:600px; height: 150px\">\n",
    "<div style=\"position: relative; top: 50% ; transform: translatey(-50%)\">\n",
    "            <div style=\"font-size: xx-large ; padding-top: 5px; padding-left: 130px ; font-weight: 900 ; color: rgba(0 , 0 , 0 , 0.9) ; line-height: 100%\">Optimization I : HW-1</div>\n",
    "            <div style=\"font-size: large ; padding-top: 20px ; padding-left: 135px ; color: rgba(0 , 0 , 0 , 0.6)\">Bracketing, Sectioning and Line Search</div>\n",
    "            <div style=\"font-size: small ; padding-top: 5px ; padding-left: 25px ; color: rgba(0 , 0 , 0 , 0.4)\">18.10.2023 </div>\n",
    "                    <div style=\"font-size: small ; padding-top: 0px ; padding-left: 25px ; color: rgba(0 , 0 , 0 , 0.4)\">Group Nr. 05, Haris Felic ( 01609136 ), Student Student ( 000000 ) </div>\n",
    "        </div>\n",
    "    </div>\n",
    "</div>"
   ]
  },
  {
   "cell_type": "markdown",
   "id": "0d953991",
   "metadata": {},
   "source": [
    "## Task 1 ( 1D - problem ) :"
   ]
  },
  {
   "cell_type": "markdown",
   "id": "c7f36038",
   "metadata": {},
   "source": [
    "Write your text here."
   ]
  },
  {
   "cell_type": "code",
   "execution_count": 1,
   "id": "239d785f",
   "metadata": {},
   "outputs": [],
   "source": [
    "## Write your code here\n"
   ]
  },
  {
   "cell_type": "markdown",
   "id": "661d9ae8",
   "metadata": {},
   "source": [
    "## Task 2 ( nD - problem ) :"
   ]
  },
  {
   "cell_type": "markdown",
   "id": "e4dd1659",
   "metadata": {},
   "source": [
    "Write your markdown here"
   ]
  },
  {
   "cell_type": "code",
   "execution_count": null,
   "id": "df3ee516",
   "metadata": {},
   "outputs": [],
   "source": [
    "## Write your code here"
   ]
  },
  {
   "cell_type": "code",
   "execution_count": null,
   "id": "c4692847",
   "metadata": {},
   "outputs": [],
   "source": []
  }
 ],
 "metadata": {
  "kernelspec": {
   "display_name": "Python 3 (ipykernel)",
   "language": "python",
   "name": "python3"
  },
  "language_info": {
   "codemirror_mode": {
    "name": "ipython",
    "version": 3
   },
   "file_extension": ".py",
   "mimetype": "text/x-python",
   "name": "python",
   "nbconvert_exporter": "python",
   "pygments_lexer": "ipython3",
   "version": "3.8.11"
  }
 },
 "nbformat": 4,
 "nbformat_minor": 5
}
