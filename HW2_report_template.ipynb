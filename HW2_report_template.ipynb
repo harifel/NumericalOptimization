{
 "cells": [
  {
   "cell_type": "markdown",
   "id": "63d442bf",
   "metadata": {},
   "source": [
    "<div style='background-image: url(\"https://i.ibb.co/2t6jDtW/igte-tu-banner.png\") ; padding: 0px ; background-size: 40% 130% ; background-repeat: no-repeat; border-radius: 5px ; height: 250px'>\n",
    "<div style=\"position: absolute; top: 100px; left: 260px; border-radius: 10px; background: rgba(212, 212, 212, 0.6) ; width:600px; height: 150px\">\n",
    "<div style=\"position: relative; top: 50% ; transform: translatey(-50%)\">\n",
    "            <div style=\"font-size: xx-large ; padding-top: 5px; padding-left: 130px ; font-weight: 900 ; color: rgba(0 , 0 , 0 , 0.9) ; line-height: 100%\">Optimization I : HW-2</div>\n",
    "            <div style=\"font-size: large ; padding-top: 20px ; padding-left: 135px ; color: rgba(0 , 0 , 0 , 0.6)\">First and second order methods</div>\n",
    "            <div style=\"font-size: small ; padding-top: 5px ; padding-left: 25px ; color: rgba(0 , 0 , 0 , 0.4)\">DD.MM.YYYY </div>\n",
    "                    <div style=\"font-size: small ; padding-top: 0px ; padding-left: 25px ; color: rgba(0 , 0 , 0 , 0.4)\">Group Nr. 00, Student Student ( 000000 ), Student Student ( 000000 ) </div>\n",
    "        </div>\n",
    "    </div>\n",
    "</div>"
   ]
  },
  {
   "cell_type": "code",
   "execution_count": 7,
   "id": "3d74ee0e",
   "metadata": {},
   "outputs": [],
   "source": [
    "import numpy as np\n",
    "import matplotlib.pyplot as plt \n",
    "import scipy.io as sio\n",
    "\n",
    "# Additional imports : \n",
    "# import ..."
   ]
  },
  {
   "cell_type": "markdown",
   "id": "0d953991",
   "metadata": {},
   "source": [
    "## Task 1 ( Gradient descent ) :"
   ]
  },
  {
   "cell_type": "markdown",
   "id": "c7f36038",
   "metadata": {},
   "source": [
    "\n",
    "Write your markdown and latex here"
   ]
  },
  {
   "cell_type": "code",
   "execution_count": 2,
   "id": "239d785f",
   "metadata": {},
   "outputs": [],
   "source": [
    "## Write your code here"
   ]
  },
  {
   "cell_type": "markdown",
   "id": "661d9ae8",
   "metadata": {},
   "source": [
    "## Task 2 ( Newton method ) :"
   ]
  },
  {
   "cell_type": "markdown",
   "id": "e4dd1659",
   "metadata": {},
   "source": [
    "\n",
    "Write your markdown and latex here"
   ]
  },
  {
   "cell_type": "code",
   "execution_count": 3,
   "id": "df3ee516",
   "metadata": {},
   "outputs": [],
   "source": [
    "## Write your code here"
   ]
  },
  {
   "cell_type": "markdown",
   "id": "4e60f6c8",
   "metadata": {},
   "source": [
    "## Task 3 ( Levenberg-Marquardt method ) :\n",
    "\n",
    "Write your markdown and latex here"
   ]
  },
  {
   "cell_type": "code",
   "execution_count": 4,
   "id": "0bbc2fe3",
   "metadata": {},
   "outputs": [],
   "source": [
    "## Write your code here"
   ]
  },
  {
   "cell_type": "markdown",
   "id": "edac40ad",
   "metadata": {},
   "source": [
    "## Task 4 ( Gauss-Newton method ) :\n",
    "\n",
    "\n",
    "Write your markdown and latex here"
   ]
  },
  {
   "cell_type": "code",
   "execution_count": 5,
   "id": "bfd550fd",
   "metadata": {},
   "outputs": [],
   "source": [
    "def model_RLC(x, f=None, U: float=1.0):\n",
    "    # Scaling the parameters to the range which is ok for \n",
    "    # our problem definition. The Gauss Newton method needs \n",
    "    # to work with normalized values which means that all of \n",
    "    # the parameters are in a similar range which these in most \n",
    "    # cases aren't.\n",
    "    x = np.abs(x)\n",
    "    x[1] *= 1e-3\n",
    "    x[2] *= 1e-6\n",
    "\n",
    "    # The frequencies do not have to be passed. if not passed \n",
    "    # a default vector is generated : \n",
    "    if f is None:\n",
    "        f = np.logspace(1,6,20)\n",
    "    \n",
    "    # Implement the function for I here : \n",
    "    I = np.ones_like(f)\n",
    "\n",
    "    return I\n",
    "\n",
    "\n",
    "# Reading mat files : \n",
    "I_m = sio.loadmat(\"./data/I_m.mat\")[\"I_m\"].T"
   ]
  },
  {
   "cell_type": "code",
   "execution_count": 6,
   "id": "26c24a23",
   "metadata": {},
   "outputs": [],
   "source": [
    "## Write your code here\n"
   ]
  }
 ],
 "metadata": {
  "kernelspec": {
   "display_name": "Python 3",
   "language": "python",
   "name": "python3"
  },
  "language_info": {
   "codemirror_mode": {
    "name": "ipython",
    "version": 3
   },
   "file_extension": ".py",
   "mimetype": "text/x-python",
   "name": "python",
   "nbconvert_exporter": "python",
   "pygments_lexer": "ipython3",
   "version": "3.8.8"
  }
 },
 "nbformat": 4,
 "nbformat_minor": 5
}
